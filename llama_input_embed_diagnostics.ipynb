{
 "cells": [
  {
   "cell_type": "code",
   "execution_count": null,
   "id": "0c7354b5",
   "metadata": {},
   "outputs": [],
   "source": [
    "import os\n",
    "import torch as tf\n",
    "os.environ[\"TOKENIZERS_PARALLELISM\"] = \"false\"\n",
    "os.environ[\"TORCHINDUCTOR_FX_GRAPH_CACHE\"] = \"1\"\n",
    "os.environ[\"TORCHINDUCTOR_AUTOGRAD_CACHE\"] = \"1\""
   ]
  },
  {
   "cell_type": "code",
   "execution_count": null,
   "id": "1ac0635f",
   "metadata": {},
   "outputs": [],
   "source": [
    "from llama_experiments import experiments, HORSE_DISTRIBUTION\n",
    "from compute_batch_llama_gradients_optimized import learn_embeddings, BatchArgs\n",
    "import scipy.stats \n",
    "import numpy as np\n",
    "\n",
    "print(scipy.stats.entropy(HORSE_DISTRIBUTION[0]))\n",
    "\n",
    "all_args = {}\n",
    "results = {}\n",
    "\n",
    "for offset in range(10):\n",
    "\n",
    "    args = BatchArgs(steps = 1000,\n",
    "            num_examples = 16,\n",
    "            examples_filepath='eng_sentences.tsv',\n",
    "            example_stride=50,\n",
    "            trim_input_ids=True,\n",
    "            permutation_seed = offset * 42,\n",
    "            randomize_input_embeds = True,\n",
    "            target_probabilities=np.tile(HORSE_DISTRIBUTION, (16,1))\n",
    "    )\n",
    "\n",
    "    # Gradient descent dog->horse, 250 steps\n",
    "    all_args[offset] = args\n",
    "    results[offset] = learn_embeddings(args)"
   ]
  },
  {
   "cell_type": "code",
   "execution_count": null,
   "id": "ac238612",
   "metadata": {},
   "outputs": [],
   "source": [
    "all_norms = []\n",
    "for key in results:\n",
    "    learned_embeddings = results[key].inputs_embeds\n",
    "    initial_embeddings = all_args[key].inputs_embeds\n",
    "    \n",
    "    \n",
    "    norms = np.linalg.norm(learned_embeddings - initial_embeddings, ord = 2, axis = -1)\n",
    "    norms = norms.flatten()\n",
    "    norms = norms[norms > 0]\n",
    "    all_norms.extend(norms.tolist())\n",
    "\n",
    "import matplotlib.pyplot as plt\n",
    "import seaborn as sns\n",
    "plt.style.use('ggplot')\n",
    "sns.kdeplot(all_norms)\n",
    "plt.title(\"L2 Distance Of Learned Input Embeddings\")\n",
    "plt.show()\n"
   ]
  },
  {
   "cell_type": "code",
   "execution_count": null,
   "id": "928754c7",
   "metadata": {},
   "outputs": [],
   "source": [
    "import seaborn as sns\n",
    "import matplotlib.pyplot as plt\n",
    "plt.style.use('ggplot')\n",
    "\n",
    "from llama_models import np_vocab_embedding_no_special_tokens\n",
    "\n",
    "\n",
    "print(type(np_vocab_embedding_no_special_tokens), np_vocab_embedding_no_special_tokens.shape)\n",
    "idxs_1 = np.random.choice(list(range(len(np_vocab_embedding_no_special_tokens))), 1000)\n",
    "idxs_2 = np.random.choice(list(range(len(np_vocab_embedding_no_special_tokens))), 1000)\n",
    "random_vocab_pair_norms = np.linalg.norm(np_vocab_embedding_no_special_tokens[idxs_1] - np_vocab_embedding_no_special_tokens[idxs_2], ord = 2, axis = -1)\n",
    "\n",
    "sns.kdeplot(random_vocab_pair_norms)\n",
    "plt.title(\"Typical Inter-Token L2 Distances\")\n",
    "plt.show()\n"
   ]
  },
  {
   "cell_type": "code",
   "execution_count": null,
   "id": "b9ac1526",
   "metadata": {},
   "outputs": [],
   "source": []
  }
 ],
 "metadata": {
  "kernelspec": {
   "display_name": "rope-move-_krKvzaN-py3.12",
   "language": "python",
   "name": "python3"
  },
  "language_info": {
   "codemirror_mode": {
    "name": "ipython",
    "version": 3
   },
   "file_extension": ".py",
   "mimetype": "text/x-python",
   "name": "python",
   "nbconvert_exporter": "python",
   "pygments_lexer": "ipython3",
   "version": "3.12.7"
  }
 },
 "nbformat": 4,
 "nbformat_minor": 5
}
